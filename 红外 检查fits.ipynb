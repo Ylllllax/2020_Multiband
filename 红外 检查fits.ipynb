{
 "cells": [
  {
   "cell_type": "code",
   "execution_count": 1,
   "metadata": {},
   "outputs": [],
   "source": [
    "import numpy as np\n",
    "import matplotlib.pyplot as plt\n",
    "import astropy.io.fits as fits \n",
    "import pandas as pd"
   ]
  },
  {
   "cell_type": "code",
   "execution_count": 2,
   "metadata": {},
   "outputs": [],
   "source": [
    "hdu = fits.open('frame-r-005052-5-0152.fits')   # 读入数据\n",
    "header = hdu[0].header\n",
    "data = hdu[0].data"
   ]
  },
  {
   "cell_type": "code",
   "execution_count": 3,
   "metadata": {},
   "outputs": [
    {
     "data": {
      "text/plain": [
       "SIMPLE  =                    T /                                                \n",
       "BITPIX  =                  -32 / 32 bit floating point                          \n",
       "NAXIS   =                    2                                                  \n",
       "NAXIS1  =                 2048                                                  \n",
       "NAXIS2  =                 1489                                                  \n",
       "EXTEND  =                    T /Extensions may be present                       \n",
       "BZERO   =              0.00000 /Set by MRD_SCALE                                \n",
       "BSCALE  =              1.00000 /Set by MRD_SCALE                                \n",
       "TAI     =        4609623959.65 / 1st row - Number of seconds since Nov 17 1858  \n",
       "RA      =            5.931107  / 1st row - Right ascension of telescope boresigh\n",
       "DEC     =            0.000000  / 1st row - Declination of telescope boresight (d\n",
       "SPA     =              90.000  / 1st row - Camera col position angle wrt north (\n",
       "IPA     =              66.008  / 1st row - Instrument rotator position angle (de\n",
       "IPARATE =              0.0000  / 1st row - Instrument rotator angular velocity (\n",
       "AZ      =            331.05851 / 1st row - Azimuth  (encoder) of tele (0=N?) (de\n",
       "ALT     =            53.567788 / 1st row - Altitude (encoder) of tele        (de\n",
       "FOCUS   =           -278.00000 / 1st row - Focus piston (microns?)              \n",
       "DATE-OBS= '2004-12-13'         / 1st row - TAI date                             \n",
       "TAIHMS  = '03:05:59.65'        / 1st row - TAI time (HH:MM:SS.SS) (TAI-UT = appr\n",
       "COMMENT  TAI,RA,DEC,SPA,IPA,IPARATE,AZ,ALT,FOCUS at reading of col 0, row 0     \n",
       "ORIGIN  = 'SDSS    '                                                            \n",
       "TELESCOP= '2.5m    '                                                            \n",
       "TIMESYS = 'TAI     '                                                            \n",
       "RUN     =                 5052 / Run number                                     \n",
       "FRAME   =                  152 / Frame sequence number within the run           \n",
       "CCDLOC  =                   15 / Survey location of CCD (e.g., rowCol)          \n",
       "STRIPE  =                   82 / Stripe index number (23 <--> eta=0)            \n",
       "STRIP   = 'S       '           / Strip in the stripe being tracked.             \n",
       "FLAVOR  = 'science '           / Flavor of this run                             \n",
       "OBSERVER= 'ank     '           / Observer                                       \n",
       "SYS_SCN = 'mean    '           / System of the scan great circle (e.g., mean)   \n",
       "EQNX_SCN=           2000.00    / Equinox of the scan great circle. (years)      \n",
       "NODE    =           95.00000   / RA of the great circle's ascending node (deg)  \n",
       "INCL    =           0.00000    / Great circle's inclination wrt cel. eq. (deg)  \n",
       "XBORE   =           22.74      / Boresight x offset from the array center (mm)  \n",
       "YBORE   =           0.00       / Boresight x offset from the array center (mm)  \n",
       "OBJECT  = '82 S    '           / e.g., 'stripe 50.6 degrees, north strip'       \n",
       "EXPTIME = '53.907456'          / Exposure time (seconds)                        \n",
       "SYSTEM  = 'FK5     '           / System of the TCC coordinates (e.g., mean)     \n",
       "CCDMODE = 'DRIFT   '           / 'STARING' or 'DRIFT'                           \n",
       "C_OBS   =                26322 / CCD row clock rate (usec/row)                  \n",
       "COLBIN  =                    1 / Binning factor perpendicular to the columns    \n",
       "ROWBIN  =                    1 / Binning factor perpendicular to the rows       \n",
       "DAVERS  = 'v14_47  '           / Version of DA software                         \n",
       "SCDMETHD= 'sqrtDynamic'        / scdMethod                                      \n",
       "SCDWIDTH=                 1280 / scdDisplayWidth                                \n",
       "SCDDECMF=                    1 / scdDecimateFactor                              \n",
       "SCDOFSET=                  410 / scdDisplayOffset                               \n",
       "SCDDYNTH=                  -22 / scdDynamicThresh                               \n",
       "SCDSTTHL=                   30 / scdStaticThreshL                               \n",
       "SCDSTTHR=                   30 / scdStaticThreshR                               \n",
       "SCDREDSZ=                  560 / scdReduceSize                                  \n",
       "SCDSKYL =                 1247 / scdSkyLeft                                     \n",
       "SCDSKYR =                 1243 / scdSkyRight                                    \n",
       "COMMENT  CCD-specific parameters                                                \n",
       "CAMROW  =                    1 / Row in the imaging camera                      \n",
       "BADLINES=                    0 / Number of bad lines in frame                   \n",
       "EQUINOX =              2000.00 /                                                \n",
       "SOFTBIAS=                 1000 / software \"bias\" added to all DN                \n",
       "BUNIT   = 'nanomaggy'          / 1 nanomaggy = 3.631e-6 Jy                      \n",
       "FILTER  = 'r       '           / filter used                                    \n",
       "CAMCOL  =                    5 / column in the imaging camera                   \n",
       "VERSION = 'v5_6_3  '                                                            \n",
       "DERV_VER= 'NOCVS:v8_23'                                                         \n",
       "ASTR_VER= 'NOCVS:v5_24'                                                         \n",
       "ASTRO_ID= '2009-05-18T03:55:45 26780'                                           \n",
       "BIAS_ID = 'PS      '                                                            \n",
       "FRAME_ID= '2009-09-23T05:26:46 29343'                                           \n",
       "KO_VER  = 'devel   '                                                            \n",
       "PS_ID   = '2009-05-17T18:15:20 11197 camCol 5'                                  \n",
       "ATVSN   = 'NOCVS:v5_24'        / ASTROTOOLS version tag                         \n",
       "RADECSYS= 'ICRS    '           / International Celestial Ref. System            \n",
       "CTYPE1  = 'RA---TAN'           /Coordinate type                                 \n",
       "CTYPE2  = 'DEC--TAN'           /Coordinate type                                 \n",
       "CUNIT1  = 'deg     '           /Units                                           \n",
       "CUNIT2  = 'deg     '           /Units                                           \n",
       "CRPIX1  =        1025.00000000 /X of reference pixel                            \n",
       "CRPIX2  =        745.000000000 /Y of reference pixel                            \n",
       "CRVAL1  =        6.49930996569 /RA of reference pixel (deg)                     \n",
       "CRVAL2  =       0.525032649333 /Dec of reference pixel (deg)                    \n",
       "CD1_1   =    1.73085822329E-08 /RA deg per column pixel                         \n",
       "CD1_2   =    0.000109985990059 /RA deg per row pixel                            \n",
       "CD2_1   =    0.000110024181398 /Dec deg per column pixel                        \n",
       "CD2_2   =    2.72604186941E-09 /Dec deg per row pixel                           \n",
       "HISTORY GSSSPUTAST: Sep 23 05:26:54 2009                                        \n",
       "COMMENT  Calibration parameters                                                 \n",
       "COMMENT  Floats truncated at 10 binary digits with FLOATCOMPRESS                \n",
       "NMGY    =           0.00506616 / Calibration factor [nMgy per count]            \n",
       "NMGYIVAR=             0.171435 / Calibration factor inverse variance            \n",
       "VERSIDL = '7.0     '           / Version of IDL                                 \n",
       "VERSUTIL= 'v5_5_5  '           / Version of idlutils                            \n",
       "VERSPOP = 'v1_11_1 '           / Version of photoop product                     \n",
       "PCALIB  = '/clusterfs/riemann/raid006/bosswork/groups/boss/calib/2009-06-14/cal'\n",
       "PSKY    = '/clusterfs/riemann/raid006/bosswork/groups/boss/photo/sky' / Value of\n",
       "RERUN   = '301     '           / rerun                                          \n",
       "HISTORY SDSS_FRAME_ASTROM: Astrometry fixed for dr9 Fri Jun 22 13:43:20 2012    "
      ]
     },
     "execution_count": 3,
     "metadata": {},
     "output_type": "execute_result"
    }
   ],
   "source": [
    "header"
   ]
  },
  {
   "cell_type": "code",
   "execution_count": 4,
   "metadata": {},
   "outputs": [],
   "source": [
    "header = hdu[1].header\n",
    "data = hdu[1].data"
   ]
  },
  {
   "cell_type": "code",
   "execution_count": 5,
   "metadata": {},
   "outputs": [
    {
     "data": {
      "text/plain": [
       "XTENSION= 'IMAGE   '           /Image Extension created by MWRFITS v1.11        \n",
       "BITPIX  =                  -32 /                                                \n",
       "NAXIS   =                    1 /                                                \n",
       "NAXIS1  =                 2048 /                                                \n",
       "PCOUNT  =                    0 /                                                \n",
       "GCOUNT  =                    1 /                                                "
      ]
     },
     "execution_count": 5,
     "metadata": {},
     "output_type": "execute_result"
    }
   ],
   "source": [
    "header"
   ]
  },
  {
   "cell_type": "code",
   "execution_count": null,
   "metadata": {},
   "outputs": [],
   "source": []
  }
 ],
 "metadata": {
  "kernelspec": {
   "display_name": "Python 3",
   "language": "python",
   "name": "python3"
  },
  "language_info": {
   "codemirror_mode": {
    "name": "ipython",
    "version": 3
   },
   "file_extension": ".py",
   "mimetype": "text/x-python",
   "name": "python",
   "nbconvert_exporter": "python",
   "pygments_lexer": "ipython3",
   "version": "3.7.0"
  }
 },
 "nbformat": 4,
 "nbformat_minor": 2
}
